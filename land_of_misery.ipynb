{
 "cells": [
  {
   "cell_type": "markdown",
   "metadata": {},
   "source": [
    "\n"
   ]
  },
  {
   "cell_type": "code",
   "execution_count": 1,
   "metadata": {},
   "outputs": [],
   "source": [
    "import numpy as np\n",
    "\n",
    "temp_list = [[-11,-13,-12,-11,-12,-13,-12,0,1,1,2,4,4,5,6,6,7,8,6,6,5,5,4,3],\n",
    "             [3,3,2,1,0,1,1,3,3,4,3,4,4,5,4,4,4,3,4,3,3,2,1,0],\n",
    "             [0,-11,-11,-12,-13,-11,1,1,2,3,4,5,3,2,2,1,1,1,0,0,-11,-11,-12,-13],\n",
    "             [-13,-13,-14,-14,-15,-16,-16,-15,-14,-14,-13,-12,-12,0,0,1,1,2,1,1,0,-11,-11,-11],\n",
    "             [-11,-12,-13,-13,-13,-12,-11,0,0,1,2,2,3,4,3,5,3,2,1,1,2,1,0,1],\n",
    "             [1,1,0,-11,-11,-12,-11,-11,0,1,1,1,2,3,2,3,4,5,6,4,2,2,1,1],\n",
    "             [0,0,1,0,-11,0,1,1,2,3,3,4,3,4,5,8,7,6,6,5,6,6,5,4]]"
   ]
  },
  {
   "cell_type": "markdown",
   "metadata": {},
   "source": [
    "\n"
   ]
  },
  {
   "cell_type": "code",
   "execution_count": 3,
   "metadata": {},
   "outputs": [
    {
     "name": "stdout",
     "output_type": "stream",
     "text": [
      "[[-11 -13 -12 -11 -12 -13 -12   0   1   1   2   4   4   5   6   6   7   8\n",
      "    6   6   5   5   4   3]\n",
      " [  3   3   2   1   0   1   1   3   3   4   3   4   4   5   4   4   4   3\n",
      "    4   3   3   2   1   0]\n",
      " [  0 -11 -11 -12 -13 -11   1   1   2   3   4   5   3   2   2   1   1   1\n",
      "    0   0 -11 -11 -12 -13]\n",
      " [-13 -13 -14 -14 -15 -16 -16 -15 -14 -14 -13 -12 -12   0   0   1   1   2\n",
      "    1   1   0 -11 -11 -11]\n",
      " [-11 -12 -13 -13 -13 -12 -11   0   0   1   2   2   3   4   3   5   3   2\n",
      "    1   1   2   1   0   1]\n",
      " [  1   1   0 -11 -11 -12 -11 -11   0   1   1   1   2   3   2   3   4   5\n",
      "    6   4   2   2   1   1]\n",
      " [  0   0   1   0 -11   0   1   1   2   3   3   4   3   4   5   8   7   6\n",
      "    6   5   6   6   5   4]]\n"
     ]
    }
   ],
   "source": [
    "temp = np.array(temp_list)\n",
    "\n"
   ]
  },
  {
   "cell_type": "markdown",
   "metadata": {},
   "source": [
    "\n"
   ]
  },
  {
   "cell_type": "code",
   "execution_count": 4,
   "metadata": {},
   "outputs": [
    {
     "name": "stdout",
     "output_type": "stream",
     "text": [
      "[[-1 -3 -2 -1 -2 -3 -2  0  1  1  2  4  4  5  6  6  7  8  6  6  5  5  4  3]\n",
      " [ 3  3  2  1  0  1  1  3  3  4  3  4  4  5  4  4  4  3  4  3  3  2  1  0]\n",
      " [ 0 -1 -1 -2 -3 -1  1  1  2  3  4  5  3  2  2  1  1  1  0  0 -1 -1 -2 -3]\n",
      " [-3 -3 -4 -4 -5 -6 -6 -5 -4 -4 -3 -2 -2  0  0  1  1  2  1  1  0 -1 -1 -1]\n",
      " [-1 -2 -3 -3 -3 -2 -1  0  0  1  2  2  3  4  3  5  3  2  1  1  2  1  0  1]\n",
      " [ 1  1  0 -1 -1 -2 -1 -1  0  1  1  1  2  3  2  3  4  5  6  4  2  2  1  1]\n",
      " [ 0  0  1  0 -1  0  1  1  2  3  3  4  3  4  5  8  7  6  6  5  6  6  5  4]]\n"
     ]
    }
   ],
   "source": [
    "temp_correct = temp.copy()\n",
    "temp_correct =  np.where(temp_correct < 0, temp_correct + 10, temp_correct)"
   ]
  },
  {
   "cell_type": "markdown",
   "metadata": {},
   "source": []
  },
  {
   "cell_type": "code",
   "execution_count": 5,
   "metadata": {},
   "outputs": [
    {
     "name": "stdout",
     "output_type": "stream",
     "text": [
      "[[30.2 26.6 28.4 30.2 28.4 26.6 28.4 32.  33.8 33.8 35.6 39.2 39.2 41.\n",
      "  42.8 42.8 44.6 46.4 42.8 42.8 41.  41.  39.2 37.4]\n",
      " [37.4 37.4 35.6 33.8 32.  33.8 33.8 37.4 37.4 39.2 37.4 39.2 39.2 41.\n",
      "  39.2 39.2 39.2 37.4 39.2 37.4 37.4 35.6 33.8 32. ]\n",
      " [32.  30.2 30.2 28.4 26.6 30.2 33.8 33.8 35.6 37.4 39.2 41.  37.4 35.6\n",
      "  35.6 33.8 33.8 33.8 32.  32.  30.2 30.2 28.4 26.6]\n",
      " [26.6 26.6 24.8 24.8 23.  21.2 21.2 23.  24.8 24.8 26.6 28.4 28.4 32.\n",
      "  32.  33.8 33.8 35.6 33.8 33.8 32.  30.2 30.2 30.2]\n",
      " [30.2 28.4 26.6 26.6 26.6 28.4 30.2 32.  32.  33.8 35.6 35.6 37.4 39.2\n",
      "  37.4 41.  37.4 35.6 33.8 33.8 35.6 33.8 32.  33.8]\n",
      " [33.8 33.8 32.  30.2 30.2 28.4 30.2 30.2 32.  33.8 33.8 33.8 35.6 37.4\n",
      "  35.6 37.4 39.2 41.  42.8 39.2 35.6 35.6 33.8 33.8]\n",
      " [32.  32.  33.8 32.  30.2 32.  33.8 33.8 35.6 37.4 37.4 39.2 37.4 39.2\n",
      "  41.  46.4 44.6 42.8 42.8 41.  42.8 42.8 41.  39.2]]\n"
     ]
    }
   ],
   "source": [
    "temp_F = temp_correct.copy()\n",
    "temp_F = (temp_F * 9/5) + 32\n"
   ]
  },
  {
   "cell_type": "markdown",
   "metadata": {},
   "source": [
    "\n",
    "\n",
    "\n",
    "<table dir=ltr style=\"width:100%; text-align:center\">\n",
    "  <tr>\n",
    "    <th><font face=\"vazir\" size=3>ساعت بیشترین دما در روز اول</th>\n",
    "    <th><font face=\"vazir\" size=3>ساعت بیشترین دما در روز دوم</th>\n",
    "    <th><font face=\"vazir\" size=3>...</th>\n",
    "    <th><font face=\"vazir\" size=3>ساعت بیشترین دما در روز هفتم</th>\n",
    "\n",
    "  </tr>\n",
    "  <tr>\n",
    "    <th><font face=\"vazir\" size=3>بیشترین دما در روز اول</th>\n",
    "    <th><font face=\"vazir\" size=3>بیشترین دما در روز دوم</th>\n",
    "    <th><font face=\"vazir\" size=3>...</th>\n",
    "    <th><font face=\"vazir\" size=3>بیشترین دما در روز هفتم</th>\n",
    "  </tr>\n",
    " \n",
    "\n",
    "</table>\n",
    "</font>\n",
    "</p>"
   ]
  },
  {
   "cell_type": "code",
   "execution_count": 6,
   "metadata": {},
   "outputs": [
    {
     "name": "stdout",
     "output_type": "stream",
     "text": [
      "[[17.  13.  11.  17.  15.  18.  15. ]\n",
      " [46.4 41.  41.  35.6 41.  42.8 46.4]]\n"
     ]
    }
   ],
   "source": [
    "max_temp_indices = np.argmax(temp_F, axis=1)  \n",
    "max_temp_values = temp_F[np.arange(temp_F.shape[0]), max_temp_indices] \n",
    "\n",
    "hottest_times = np.vstack((max_temp_indices, max_temp_values))\n"
   ]
  },
  {
   "cell_type": "markdown",
   "metadata": {},
   "source": [
    "\n",
    "\n",
    "<table dir=ltr style=\"width:100%\">\n",
    "  <tr>\n",
    "    <th><font face=\"vazir\" size=3>روز</th>\n",
    "    <th><font face=\"vazir\" size=3>کمترین دما</th>\n",
    "  </tr>\n",
    "</table>\n",
    "\n"
   ]
  },
  {
   "cell_type": "code",
   "execution_count": 7,
   "metadata": {},
   "outputs": [
    {
     "name": "stdout",
     "output_type": "stream",
     "text": [
      "[ 3.  28.4]\n"
     ]
    }
   ],
   "source": [
    "mean_temp_per_day = np.mean(temp_F, axis=1)\n",
    "coldest_day_index = np.argmin(mean_temp_per_day)\n",
    "coldest_day_temp = mean_temp_per_day[coldest_day_index]\n",
    "coldest_day = np.array([coldest_day_index, coldest_day_temp])\n",
    "\n"
   ]
  },
  {
   "cell_type": "markdown",
   "metadata": {},
   "source": []
  },
  {
   "cell_type": "code",
   "execution_count": 8,
   "metadata": {},
   "outputs": [
    {
     "name": "stdout",
     "output_type": "stream",
     "text": [
      "File Paths:\n",
      "['answers.npz', 'land_of_misery.ipynb']\n"
     ]
    }
   ],
   "source": []
  }
 ],
 "metadata": {
  "kernelspec": {
   "display_name": "Python 3 (ipykernel)",
   "language": "python",
   "name": "python3"
  },
  "language_info": {
   "codemirror_mode": {
    "name": "ipython",
    "version": 3
   },
   "file_extension": ".py",
   "mimetype": "text/x-python",
   "name": "python",
   "nbconvert_exporter": "python",
   "pygments_lexer": "ipython3",
   "version": "3.10.13"
  },
  "vscode": {
   "interpreter": {
    "hash": "6a29b8f2e1e8b11f80c3820468461bcdbea6564508a235f61a46eeb59d48b308"
   }
  }
 },
 "nbformat": 4,
 "nbformat_minor": 4
}
